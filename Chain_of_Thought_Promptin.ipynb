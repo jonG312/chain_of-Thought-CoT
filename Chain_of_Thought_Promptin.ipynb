{
  "nbformat": 4,
  "nbformat_minor": 0,
  "metadata": {
    "colab": {
      "provenance": [],
      "authorship_tag": "ABX9TyNPfhT0MQfP1iDmB9G9LN8B",
      "include_colab_link": true
    },
    "kernelspec": {
      "name": "python3",
      "display_name": "Python 3"
    },
    "language_info": {
      "name": "python"
    }
  },
  "cells": [
    {
      "cell_type": "markdown",
      "metadata": {
        "id": "view-in-github",
        "colab_type": "text"
      },
      "source": [
        "<a href=\"https://colab.research.google.com/github/jonG312/chain_of-Thought-CoT/blob/main/Chain_of_Thought_Promptin.ipynb\" target=\"_parent\"><img src=\"https://colab.research.google.com/assets/colab-badge.svg\" alt=\"Open In Colab\"/></a>"
      ]
    },
    {
      "cell_type": "code",
      "execution_count": 1,
      "metadata": {
        "id": "BBHgefjTtH9K"
      },
      "outputs": [],
      "source": [
        "import os"
      ]
    },
    {
      "cell_type": "code",
      "source": [
        "from google.colab import drive\n",
        "drive.mount('/content/drive')"
      ],
      "metadata": {
        "id": "KT9E30tV9mjy"
      },
      "execution_count": null,
      "outputs": []
    },
    {
      "cell_type": "code",
      "source": [
        "import openai\n",
        "import os\n",
        "\n",
        "openai.api_key  = ''"
      ],
      "metadata": {
        "id": "wt0r32-g9udN"
      },
      "execution_count": null,
      "outputs": []
    },
    {
      "cell_type": "code",
      "source": [
        "!git clone https://github.com/amazon-science/auto-cot.git\n",
        "%cd auto-cot"
      ],
      "metadata": {
        "id": "HwPQAyl--B5A"
      },
      "execution_count": null,
      "outputs": []
    },
    {
      "cell_type": "code",
      "source": [
        "!pip install -r requirements.txt\n",
        "!pip install openai"
      ],
      "metadata": {
        "id": "rPz27y3I-L_W"
      },
      "execution_count": null,
      "outputs": []
    },
    {
      "cell_type": "code",
      "source": [
        "import sys\n",
        "sys.argv=['']\n",
        "del sys\n",
        "from api import cot\n",
        "\n",
        "question = \"There were 10 friends playing a video game online when 7 players quit. If each player left had 8 lives, how many lives did they have total?\"\n",
        "print(\"Example: Zero-Shot\")\n",
        "# To use GPT-3, please add your openai-api key in utils.py (#Line 59)\n",
        "# method = [\"zero_shot\", \"zero_shot_cot\", \"manual_cot\", \"auto_cot\"]\n",
        "cot(method=\"zero_shot\", question=question)\n"
      ],
      "metadata": {
        "id": "T2F6vqG2-XEu"
      },
      "execution_count": null,
      "outputs": []
    },
    {
      "cell_type": "code",
      "source": [
        "question = \"There were 10 friends playing a video game online when 7 players quit. If each player left had 8 lives, how many lives did they have total?\"\n",
        "print(\"Example: Zero-Shot-CoT\")\n",
        "cot(method=\"zero_shot_cot\", question=question)"
      ],
      "metadata": {
        "id": "YiXSTDhAAhoI"
      },
      "execution_count": null,
      "outputs": []
    },
    {
      "cell_type": "code",
      "source": [
        "question = \"In a video game, each enemy defeated gives you 7 points. If a level has 11 enemies total and you destroy all but 8 of them, how many points would you earn?\"\n",
        "print(\"Example: Manual-CoT\")\n",
        "cot(method=\"manual_cot\", question=question)"
      ],
      "metadata": {
        "id": "cJkg7--vA0x0"
      },
      "execution_count": null,
      "outputs": []
    },
    {
      "cell_type": "code",
      "source": [
        "question = \"In a video game, each enemy defeated gives you 7 points. If a level has 11 enemies total and you destroy all but 8 of them, how many points would you earn?\"\n",
        "print(\"Example: Auto-CoT\")\n",
        "cot(method=\"auto_cot\", question=question)\n"
      ],
      "metadata": {
        "id": "HrgBkKikA8Hj"
      },
      "execution_count": null,
      "outputs": []
    },
    {
      "cell_type": "code",
      "source": [],
      "metadata": {
        "id": "Sq_L-JjABAKF"
      },
      "execution_count": null,
      "outputs": []
    }
  ]
}
